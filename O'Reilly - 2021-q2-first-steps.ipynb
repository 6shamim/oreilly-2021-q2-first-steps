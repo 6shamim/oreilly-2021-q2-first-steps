{
 "cells": [
  {
   "cell_type": "markdown",
   "metadata": {},
   "source": [
    "# Agenda\n",
    "\n",
    "- Programming languages -- what are they?\n",
    "- Variables -- what are they?  (Assignment)\n",
    "- Comparisons and `if`\n",
    "- Getting input and producing output\n",
    "- More complex conditions\n",
    "- Different types of data -- strings, booleans, and integers (and floats)\n",
    "- Syntax of Python programs"
   ]
  },
  {
   "cell_type": "markdown",
   "metadata": {},
   "source": [
    "# Jupyter\n",
    "\n"
   ]
  },
  {
   "cell_type": "code",
   "execution_count": 3,
   "metadata": {},
   "outputs": [
    {
     "name": "stdout",
     "output_type": "stream",
     "text": [
      "abcd!\n",
      "efgh!\n",
      "ijkl!\n"
     ]
    }
   ],
   "source": [
    "# this is a comment!  Python is ignoring me!\n",
    "\n",
    "print('abcd!')   # this is a line of code -- when I'm done typing it, I press <ENTER>\n",
    "print('efgh!')   # another line of code, pressing <ENTER> again\n",
    "print('ijkl!')   # last line of code, I type shift+ENTTER -- that executes the entire \"cell\""
   ]
  },
  {
   "cell_type": "code",
   "execution_count": null,
   "metadata": {},
   "outputs": [],
   "source": [
    "# REPL -- read, eval, print loop"
   ]
  }
 ],
 "metadata": {
  "kernelspec": {
   "display_name": "Python 3",
   "language": "python",
   "name": "python3"
  },
  "language_info": {
   "codemirror_mode": {
    "name": "ipython",
    "version": 3
   },
   "file_extension": ".py",
   "mimetype": "text/x-python",
   "name": "python",
   "nbconvert_exporter": "python",
   "pygments_lexer": "ipython3",
   "version": "3.9.5"
  }
 },
 "nbformat": 4,
 "nbformat_minor": 4
}

{
 "cells": [
  {
   "cell_type": "markdown",
   "metadata": {},
   "source": [
    "# Agenda\n",
    "\n",
    "- Programming languages -- what are they?\n",
    "- Variables -- what are they?  (Assignment)\n",
    "- Comparisons and `if`\n",
    "- Getting input and producing output\n",
    "- More complex conditions\n",
    "- Different types of data -- strings, booleans, and integers (and floats)\n",
    "- Syntax of Python programs"
   ]
  },
  {
   "cell_type": "markdown",
   "metadata": {},
   "source": [
    "# Jupyter\n",
    "\n"
   ]
  },
  {
   "cell_type": "code",
   "execution_count": 3,
   "metadata": {},
   "outputs": [
    {
     "name": "stdout",
     "output_type": "stream",
     "text": [
      "abcd!\n",
      "efgh!\n",
      "ijkl!\n"
     ]
    }
   ],
   "source": [
    "# this is a comment!  Python is ignoring me!\n",
    "\n",
    "print('abcd!')   # this is a line of code -- when I'm done typing it, I press <ENTER>\n",
    "print('efgh!')   # another line of code, pressing <ENTER> again\n",
    "print('ijkl!')   # last line of code, I type shift+ENTTER -- that executes the entire \"cell\""
   ]
  },
  {
   "cell_type": "code",
   "execution_count": 4,
   "metadata": {},
   "outputs": [],
   "source": [
    "# REPL -- read, eval, print loop"
   ]
  },
  {
   "cell_type": "code",
   "execution_count": null,
   "metadata": {},
   "outputs": [],
   "source": [
    "# green outline means I'm in \"edit\" mode, meaning I can type + edit + run code\n",
    "# blue outline means I'm in \"command\" mode, meaning I'm giving Jupyter commands"
   ]
  },
  {
   "cell_type": "code",
   "execution_count": null,
   "metadata": {},
   "outputs": [],
   "source": [
    "# green outline means I'm in \"edit\" mode, meaning I can type + edit + run code\n",
    "# blue outline means I'm in \"command\" mode, meaning I'm giving Jupyter commands"
   ]
  },
  {
   "cell_type": "code",
   "execution_count": 5,
   "metadata": {},
   "outputs": [
    {
     "name": "stdout",
     "output_type": "stream",
     "text": [
      "12345\n"
     ]
    }
   ],
   "source": [
    "print(12345)  # print the number 12345"
   ]
  },
  {
   "cell_type": "code",
   "execution_count": 6,
   "metadata": {},
   "outputs": [
    {
     "name": "stdout",
     "output_type": "stream",
     "text": [
      "abcde\n"
     ]
    }
   ],
   "source": [
    "print('abcde')  # prints the text (\"string\") to the screen"
   ]
  },
  {
   "cell_type": "code",
   "execution_count": null,
   "metadata": {},
   "outputs": [],
   "source": [
    "# expression -- a value that we get from the programming language"
   ]
  }
 ],
 "metadata": {
  "kernelspec": {
   "display_name": "Python 3",
   "language": "python",
   "name": "python3"
  },
  "language_info": {
   "codemirror_mode": {
    "name": "ipython",
    "version": 3
   },
   "file_extension": ".py",
   "mimetype": "text/x-python",
   "name": "python",
   "nbconvert_exporter": "python",
   "pygments_lexer": "ipython3",
   "version": "3.9.5"
  }
 },
 "nbformat": 4,
 "nbformat_minor": 4
}
